{
  "nbformat": 4,
  "nbformat_minor": 0,
  "metadata": {
    "colab": {
      "private_outputs": true,
      "provenance": [],
      "collapsed_sections": [
        "mDgbUHAGgjLW",
        "gIfDvo9L0UH2"
      ],
      "toc_visible": true,
      "include_colab_link": true
    },
    "kernelspec": {
      "name": "python3",
      "display_name": "Python 3"
    },
    "language_info": {
      "name": "python"
    }
  },
  "cells": [
    {
      "cell_type": "markdown",
      "metadata": {
        "id": "view-in-github",
        "colab_type": "text"
      },
      "source": [
        "<a href=\"https://colab.research.google.com/github/rutujagabhane/Hotel-Analysis-Project/blob/main/Hotel_Analysis_Project.ipynb\" target=\"_parent\"><img src=\"https://colab.research.google.com/assets/colab-badge.svg\" alt=\"Open In Colab\"/></a>"
      ]
    },
    {
      "cell_type": "markdown",
      "source": [
        "# **Project Name**    -Hotel Booking Analysis\n",
        "\n",
        "\n"
      ],
      "metadata": {
        "id": "vncDsAP0Gaoa"
      }
    },
    {
      "cell_type": "markdown",
      "source": [
        "##### **Project Type**    - EDA\n",
        "##### **Contribution**    - Individual\n",
        "\n"
      ],
      "metadata": {
        "id": "beRrZCGUAJYm"
      }
    },
    {
      "cell_type": "markdown",
      "source": [
        "# **Project Summary -**\n"
      ],
      "metadata": {
        "id": "FJNUwmbgGyua"
      }
    },
    {
      "cell_type": "markdown",
      "source": [
        "The primary objective of this project is to analyze business data to identify insights such as seasonality and weekend visitation trends. By understanding patterns, strategies can be devised to enhance weekday customer engagement and maximize profits from weekend bookings we have. Additionally, the analysis aims to uncover actionable recommendations for improving overall business performance and sustainability. Through data-driven insights, targeted interventions can be implemented to drive growth and optimize operational efficiency."
      ],
      "metadata": {
        "id": "F6v_1wHtG2nS"
      }
    },
    {
      "cell_type": "markdown",
      "source": [
        "# **GitHub Link -**"
      ],
      "metadata": {
        "id": "w6K7xa23Elo4"
      }
    },
    {
      "cell_type": "markdown",
      "source": [
        "Provide your GitHub Link here."
      ],
      "metadata": {
        "id": "h1o69JH3Eqqn"
      }
    },
    {
      "cell_type": "markdown",
      "source": [
        "# **Problem Statement**\n"
      ],
      "metadata": {
        "id": "yQaldy8SH6Dl"
      }
    },
    {
      "cell_type": "markdown",
      "source": [
        "The dataset comprises booking information for a city hotel and a resort hotel, providing insights into various factors influencing hotel bookings. The objective is to analyze the data and derive actionable insights to address the following key questions:\n",
        "\n",
        "When is the optimal time to book a hotel room for both city and resort hotels?\n",
        "How does the length of stay correlate with the daily rate, and what is the optimal duration for cost-effectiveness?\n",
        "Can we predict whether a hotel is likely to receive an unusually high number of special requests based on booking details?\n",
        "What factors significantly impact booking decisions, including lead time, meal plans, market segments, and customer types?\n",
        "How do demographic factors like the number of adults, children, and babies affect booking patterns?\n",
        "What is the influence of available parking spaces on booking behavior and guest satisfaction?\n",
        "What trends in cancellation rates can be identified, and how can we mitigate cancellations effectively?\n",
        "What insights can we glean from the distribution of booking channels and market segments?\n",
        "How does past booking history, including previous cancellations, influence future booking decisions?\n",
        "How can the findings be leveraged to optimize revenue, enhance guest experience, and improve operational efficiency?"
      ],
      "metadata": {
        "id": "DpeJGUA3kjGy"
      }
    },
    {
      "cell_type": "markdown",
      "source": [
        "#### **Define Your Business Objective?**"
      ],
      "metadata": {
        "id": "PH-0ReGfmX4f"
      }
    },
    {
      "cell_type": "markdown",
      "source": [
        "\n",
        "The objective of the project is to analyze business data to understand seasonal trends and weekend visitor patterns, ultimately devising strategies to enhance weekend customer engagement and maximize profitability. Through rigorous analysis and strategic implementation, the project aims to uncover actionable insights that drive business growth and optimize performance in a dynamic market environment."
      ],
      "metadata": {
        "id": "PhDvGCAqmjP1"
      }
    },
    {
      "cell_type": "markdown",
      "source": [
        "# **General Guidelines** : -  "
      ],
      "metadata": {
        "id": "mDgbUHAGgjLW"
      }
    },
    {
      "cell_type": "markdown",
      "source": [
        "1.   Well-structured, formatted, and commented code is required.\n",
        "2.   Exception Handling, Production Grade Code & Deployment Ready Code will be a plus. Those students will be awarded some additional credits.\n",
        "     \n",
        "     The additional credits will have advantages over other students during Star Student selection.\n",
        "       \n",
        "             [ Note: - Deployment Ready Code is defined as, the whole .ipynb notebook should be executable in one go\n",
        "                       without a single error logged. ]\n",
        "\n",
        "3.   Each and every logic should have proper comments.\n",
        "4. You may add as many number of charts you want. Make Sure for each and every chart the following format should be answered.\n",
        "        \n",
        "\n",
        "```\n",
        "# Chart visualization code\n",
        "```\n",
        "            \n",
        "\n",
        "*   Why did you pick the specific chart?\n",
        "*   What is/are the insight(s) found from the chart?\n",
        "* Will the gained insights help creating a positive business impact?\n",
        "Are there any insights that lead to negative growth? Justify with specific reason.\n",
        "\n",
        "5. You have to create at least 20 logical & meaningful charts having important insights.\n",
        "\n",
        "\n",
        "[ Hints : - Do the Vizualization in  a structured way while following \"UBM\" Rule.\n",
        "\n",
        "U - Univariate Analysis,\n",
        "\n",
        "B - Bivariate Analysis (Numerical - Categorical, Numerical - Numerical, Categorical - Categorical)\n",
        "\n",
        "M - Multivariate Analysis\n",
        " ]\n",
        "\n",
        "\n",
        "\n"
      ],
      "metadata": {
        "id": "ZrxVaUj-hHfC"
      }
    },
    {
      "cell_type": "markdown",
      "source": [
        "# ***Let's Begin !***"
      ],
      "metadata": {
        "id": "O_i_v8NEhb9l"
      }
    },
    {
      "cell_type": "markdown",
      "source": [
        "## ***1. Know Your Data***"
      ],
      "metadata": {
        "id": "HhfV-JJviCcP"
      }
    },
    {
      "cell_type": "markdown",
      "source": [
        "### Import Libraries"
      ],
      "metadata": {
        "id": "Y3lxredqlCYt"
      }
    },
    {
      "cell_type": "code",
      "source": [
        "# Import Libraries\n",
        "import pandas as pd\n",
        "import numpy as np\n",
        "import matplotlib.pyplot as plt\n",
        "import seaborn as sns\n",
        "from datetime import datetime"
      ],
      "metadata": {
        "id": "I8BIq8X6is8c"
      },
      "execution_count": null,
      "outputs": []
    },
    {
      "cell_type": "markdown",
      "source": [
        "### Dataset Loading"
      ],
      "metadata": {
        "id": "3RnN4peoiCZX"
      }
    },
    {
      "cell_type": "code",
      "source": [
        "from google.colab import drive\n",
        "drive.mount('/content/drive')\n"
      ],
      "metadata": {
        "id": "_SVwGVoiiovL"
      },
      "execution_count": null,
      "outputs": []
    },
    {
      "cell_type": "code",
      "source": [
        "df = pd.read_csv('/content/drive/MyDrive/Almabetter/Hotel Bookings.csv')"
      ],
      "metadata": {
        "id": "hO1H9OrPi0BD"
      },
      "execution_count": null,
      "outputs": []
    },
    {
      "cell_type": "code",
      "source": [
        "df = pd.read_csv('/content/Hotel Bookings.csv')"
      ],
      "metadata": {
        "id": "2EJm6WO4-lxd"
      },
      "execution_count": null,
      "outputs": []
    },
    {
      "cell_type": "markdown",
      "source": [
        "### Dataset First View"
      ],
      "metadata": {
        "id": "x71ZqKXriCWQ"
      }
    },
    {
      "cell_type": "code",
      "source": [
        "# Dataset First Look\n",
        "df"
      ],
      "metadata": {
        "id": "8UYyKHM91Zs_"
      },
      "execution_count": null,
      "outputs": []
    },
    {
      "cell_type": "code",
      "source": [
        "df.head()"
      ],
      "metadata": {
        "id": "LWNFOSvLl09H"
      },
      "execution_count": null,
      "outputs": []
    },
    {
      "cell_type": "code",
      "source": [
        "df.tail()"
      ],
      "metadata": {
        "id": "nHuXXENhhMik"
      },
      "execution_count": null,
      "outputs": []
    },
    {
      "cell_type": "markdown",
      "source": [
        "### Dataset Rows & Columns count"
      ],
      "metadata": {
        "id": "7hBIi_osiCS2"
      }
    },
    {
      "cell_type": "code",
      "source": [
        "# Dataset Rows & Columns count\n",
        "df.shape"
      ],
      "metadata": {
        "id": "Kllu7SJgmLij"
      },
      "execution_count": null,
      "outputs": []
    },
    {
      "cell_type": "markdown",
      "source": [
        "### Dataset Information"
      ],
      "metadata": {
        "id": "JlHwYmJAmNHm"
      }
    },
    {
      "cell_type": "code",
      "source": [
        "# Dataset Info\n",
        "df.info()"
      ],
      "metadata": {
        "id": "e9hRXRi6meOf"
      },
      "execution_count": null,
      "outputs": []
    },
    {
      "cell_type": "markdown",
      "source": [
        "#### Duplicate Values"
      ],
      "metadata": {
        "id": "35m5QtbWiB9F"
      }
    },
    {
      "cell_type": "code",
      "source": [
        "# Dataset Duplicate Value Count\n",
        "df.drop_duplicates(inplace=True)\n",
        "df"
      ],
      "metadata": {
        "id": "1sLdpKYkmox0"
      },
      "execution_count": null,
      "outputs": []
    },
    {
      "cell_type": "code",
      "source": [
        "df.shape"
      ],
      "metadata": {
        "id": "nqA4nwbxjHsK"
      },
      "execution_count": null,
      "outputs": []
    },
    {
      "cell_type": "markdown",
      "source": [
        "#### Missing Values/Null Values"
      ],
      "metadata": {
        "id": "PoPl-ycgm1ru"
      }
    },
    {
      "cell_type": "code",
      "source": [
        "# Missing Values/Null Values Count\n",
        "df.isnull().sum()"
      ],
      "metadata": {
        "id": "GgHWkxvamxVg"
      },
      "execution_count": null,
      "outputs": []
    },
    {
      "cell_type": "code",
      "source": [
        "# Visualizing the missing values\n",
        "import seaborn as sns\n",
        "import matplotlib.pyplot as plt\n",
        "import pandas as pd\n",
        "\n",
        "# Assuming df is your DataFrame\n",
        "# Generate a heatmap of missing values\n",
        "plt.figure(figsize=(50, 30))\n",
        "sns.heatmap(df.isnull(), cmap='viridis', cbar=False, yticklabels=False)\n",
        "plt.title('Missing Values Heatmap')\n",
        "plt.show()\n"
      ],
      "metadata": {
        "id": "3q5wnI3om9sJ"
      },
      "execution_count": null,
      "outputs": []
    },
    {
      "cell_type": "code",
      "source": [
        "import matplotlib.pyplot as plt\n",
        "import pandas as pd\n",
        "\n",
        "# Assuming df is your DataFrame\n",
        "# Calculate the number of missing values in each column\n",
        "missing_values_count = df.isnull().sum()\n",
        "\n",
        "# Plot the number of missing values\n",
        "plt.figure(figsize=(50, 30))\n",
        "missing_values_count.plot(kind='bar', color='skyblue')\n",
        "plt.title('Missing Values by Column')\n",
        "plt.xlabel('Columns')\n",
        "plt.ylabel('Number of Missing Values')\n",
        "plt.xticks(rotation=45, ha='right')  # Rotate x-axis labels for better visibility\n",
        "plt.show()\n"
      ],
      "metadata": {
        "id": "wLO9hTEg30o9"
      },
      "execution_count": null,
      "outputs": []
    },
    {
      "cell_type": "markdown",
      "source": [
        "### What did you know about your dataset?"
      ],
      "metadata": {
        "id": "H0kj-8xxnORC"
      }
    },
    {
      "cell_type": "code",
      "source": [
        "df.columns"
      ],
      "metadata": {
        "id": "qgLORmLXnhG5"
      },
      "execution_count": null,
      "outputs": []
    },
    {
      "cell_type": "markdown",
      "source": [
        "hotel                               :City Hotel,Resort Hotel\n",
        "\n",
        "is_canceled                         :0(False),1(True)\n",
        "\n",
        "lead_time                           :Number of days that elapsed between the entering date of the booking into the PMS and the arrival date\n",
        "\n",
        "arrival_date_year                   :Year of arrival date 2015,2016,2017\n",
        "\n",
        "arrival_date_month                  :Month of arrival date,Jan-dec\n",
        "\n",
        "arrival_date_week_number            :Week number for arrival date\n",
        "\n",
        "arrival_date_day_of_month           :1-31\n",
        "\n",
        "stays_in_weekend_nights             :0-19\n",
        "\n",
        "stays_in_week_nights                :0-50\n",
        "\n",
        "adults                              :0-55\n",
        "\n",
        "children                            :0,1,2,3,10\n",
        "\n",
        "babies                              :0,1,2,9,10\n",
        "\n",
        "meal                                :BB,FB,HB,SC,UNDEFINED\n",
        "\n",
        "country:                            :Countr,Native Vountry name\n",
        "\n",
        "market_segment                      :Aviation,Offline TA/TO,Complementary,Corporate,Direct,UNDEFINED,Groups,Online TA\n",
        "\n",
        "\n",
        "distribution_channel                :Corporate,Direct,TA/TO,UNDEFINED,GDS\n",
        "\n",
        "is_repeated_guest:                  :0(Frue),1(True)\n",
        "\n",
        "previous_cancellations:             :0-26,Was there a cancellation before\n",
        "\n",
        "previous_bookings_not_canceled      :0-7 not cancelled\n",
        "\n",
        "reserved_room_type:A-P\n",
        "\n",
        "assigned_room_type:A-P\n",
        "\n",
        "booking_changes:0-21,Count of changes made to booking\n",
        "\n",
        "deposit_type:No Deposit,Non Refund,Refundable\n",
        "\n",
        "agent:RANDOM\n",
        "\n",
        "company:40,185,225,405\n",
        "\n",
        "days_in_waiting_list:0,53,15O N0 od days in Wating list\n",
        "\n",
        "customer_type:40,185,Type of customer\n",
        "\n",
        "adr:RANDOM\n",
        "\n",
        "required_car_parking_spaces:0,1,2\n",
        "\n",
        "total_of_special_requests:0,1,2,3\n",
        "\n",
        "reservation_status:Check-Out,Canceled,NO_SHOW\n",
        "\n",
        "reservation_status_date:Date of the specific status"
      ],
      "metadata": {
        "id": "gfoNAAC-nUe_"
      }
    },
    {
      "cell_type": "markdown",
      "source": [
        "## ***2. Understanding Your Variables***"
      ],
      "metadata": {
        "id": "nA9Y7ga8ng1Z"
      }
    },
    {
      "cell_type": "code",
      "source": [
        "# Dataset Columns\n",
        "df.columns"
      ],
      "metadata": {
        "id": "j7xfkqrt5Ag5"
      },
      "execution_count": null,
      "outputs": []
    },
    {
      "cell_type": "markdown",
      "source": [
        "### Variables Description"
      ],
      "metadata": {
        "id": "PBTbrJXOngz2"
      }
    },
    {
      "cell_type": "code",
      "source": [
        "# Dataset Describe\n",
        "df.describe()"
      ],
      "metadata": {
        "id": "IdWCIN7mM3IZ"
      },
      "execution_count": null,
      "outputs": []
    },
    {
      "cell_type": "markdown",
      "source": [
        "\n",
        "\n",
        "\n",
        "> Indented block\n",
        "\n",
        "\n",
        "```\n",
        "# This is formatted as code\n",
        "```\n",
        "\n",
        "### Check Unique Values for each variable."
      ],
      "metadata": {
        "id": "u3PMJOP6ngxN"
      }
    },
    {
      "cell_type": "code",
      "source": [
        "# Check Unique Values for each variable.\n",
        "print(df.apply(lambda col: col.unique()))"
      ],
      "metadata": {
        "id": "zms12Yq5n-jE"
      },
      "execution_count": null,
      "outputs": []
    },
    {
      "cell_type": "markdown",
      "source": [
        "## 3. ***Data Wrangling***"
      ],
      "metadata": {
        "id": "dauF4eBmngu3"
      }
    },
    {
      "cell_type": "markdown",
      "source": [
        "### Data Wrangling Code"
      ],
      "metadata": {
        "id": "bKJF3rekwFvQ"
      }
    },
    {
      "cell_type": "code",
      "source": [
        "# Write your code to make your dataset analysis ready.\n",
        "import numpy as np\n",
        "\n",
        "# Replace missing values in the \"country\" column with NaN\n",
        "df[\"country\"].fillna(value='others', inplace=True)\n",
        "df[\"agent\"].fillna(value= 0, inplace=True)\n",
        "df[\"company\"].fillna(value= 0, inplace=True)\n",
        "df.isnull().sum()"
      ],
      "metadata": {
        "id": "wk-9a2fpoLcV"
      },
      "execution_count": null,
      "outputs": []
    },
    {
      "cell_type": "markdown",
      "source": [
        "### What all manipulations have you done and insights you found?"
      ],
      "metadata": {
        "id": "MSa1f5Uengrz"
      }
    },
    {
      "cell_type": "markdown",
      "source": [
        "Answer Here.\n",
        "\n",
        "---\n",
        "\n"
      ],
      "metadata": {
        "id": "LbyXE7I1olp8"
      }
    },
    {
      "cell_type": "code",
      "source": [
        "import numpy as np\n",
        "\n",
        "# Replace missing values in the \"country\" column with NaN\n",
        "df[\"is_canceled\"].replace(1, 'is_canceled', inplace=True)\n",
        "df[\"is_canceled\"].replace(0,'not_canceled', inplace=True)\n",
        "\n",
        "df[\"is_repeated_guest\"].replace({0:'No',1:'Yes'}, inplace=True)"
      ],
      "metadata": {
        "id": "G3BtGxkCavZd"
      },
      "execution_count": null,
      "outputs": []
    },
    {
      "cell_type": "code",
      "source": [
        "filtered_df = df[df[\"is_repeated_guest\"] == 'Yes']\n",
        "print(filtered_df[\"is_repeated_guest\"].head(50))"
      ],
      "metadata": {
        "id": "QJMZw1tR6JhO"
      },
      "execution_count": null,
      "outputs": []
    },
    {
      "cell_type": "code",
      "source": [
        "df[\"Total_guest\"] = df[\"adults\"]+df[\"children\"]+df[\"babies\"]\n",
        "df[\"Total_guest\"]\n",
        "df"
      ],
      "metadata": {
        "id": "kPXd1nJw6oFD"
      },
      "execution_count": null,
      "outputs": []
    },
    {
      "cell_type": "code",
      "source": [
        "df.info()"
      ],
      "metadata": {
        "id": "8YD9G1z0lxzv"
      },
      "execution_count": null,
      "outputs": []
    },
    {
      "cell_type": "code",
      "source": [
        "# Assuming df is your DataFrame\n",
        "\n",
        "month_dict = {'January': '01', 'February': '02', 'March': '03', 'April': '04', 'May': '05', 'June': '06',\n",
        "              'July': '07', 'August': '08', 'September': '09', 'October': '10', 'November': '11', 'December': '12'}\n",
        "\n",
        "\n",
        "df[\"Arriving_date\"] = pd.to_datetime(df[\"arrival_date_year\"].astype(str) + '-' + df[\"arrival_date_month\"].apply(lambda x: month_dict[x]) + '-' + df[\"arrival_date_day_of_month\"].astype(str), errors='coerce')\n",
        "df\n"
      ],
      "metadata": {
        "id": "jBnKE6_hkhfS"
      },
      "execution_count": null,
      "outputs": []
    },
    {
      "cell_type": "code",
      "source": [
        "import pandas as pd\n",
        "\n",
        "df[\"reservation_status_date\"] = pd.to_datetime(df[\"reservation_status_date\"])\n",
        "df[\"date_difference\"] = (df[\"reservation_status_date\"] - df[\"Arriving_date\"])\n",
        "df\n"
      ],
      "metadata": {
        "id": "NdjPXnWd3g_t"
      },
      "execution_count": null,
      "outputs": []
    },
    {
      "cell_type": "code",
      "source": [
        "df[\"total_stay\"] = df[\"stays_in_weekend_nights\"]+df[\"stays_in_week_nights\"]\n",
        "df[\"total_stay\"]"
      ],
      "metadata": {
        "id": "6E4wREK67BTn"
      },
      "execution_count": null,
      "outputs": []
    },
    {
      "cell_type": "code",
      "source": [
        "df[\"revenue\"]=df[\"total_stay\"]*df[\"adr\"]\n",
        "df[\"revenue\"]"
      ],
      "metadata": {
        "id": "_pZZ24_N6SMm"
      },
      "execution_count": null,
      "outputs": []
    },
    {
      "cell_type": "code",
      "source": [
        "hotel_type_wise_revenu = df.groupby(\"hotel\")[\"revenue\"].sum()\n",
        "hotel_type_wise_revenu"
      ],
      "metadata": {
        "id": "Lg1ZLJYn7-1I"
      },
      "execution_count": null,
      "outputs": []
    },
    {
      "cell_type": "markdown",
      "source": [
        "## ***4. Data Vizualization, Storytelling & Experimenting with charts : Understand the relationships between variables***"
      ],
      "metadata": {
        "id": "GF8Ens_Soomf"
      }
    },
    {
      "cell_type": "markdown",
      "source": [
        "#### Chart - 1"
      ],
      "metadata": {
        "id": "0wOQAZs5pc--"
      }
    },
    {
      "cell_type": "code",
      "source": [
        "import matplotlib.pyplot as plt\n",
        "import numpy as np\n",
        "import pandas as pd\n",
        "\n",
        "# Assuming 'df' is your DataFrame\n",
        "\n",
        "filtered_df1 = df[df[\"hotel\"] == 'Resort Hotel'].count()[\"hotel\"]\n",
        "filtered_df2 = df[df[\"hotel\"] == 'City Hotel'].count()[\"hotel\"]\n",
        "\n",
        "labels = ['Resort Hotel', 'City Hotel']\n",
        "values = [filtered_df1, filtered_df2]\n",
        "\n",
        "plt.figure(figsize=(8,8))\n",
        "# Create a pie chart using Matplotlib\n",
        "#plt.figure(figsize=(8, 8))\n",
        "plt.pie(values, labels=labels , autopct='%1.1f%%') ##startangle=90, colors=plt.cm.Paired.colors)\n",
        "\n",
        "# Set aspect ratio to be equal, ensuring the pie is drawn as a circle.\n",
        "plt.axis('equal')\n",
        "\n",
        "# Show the plot\n",
        "plt.show()\n",
        "\n"
      ],
      "metadata": {
        "id": "7v_ESjsspbW7"
      },
      "execution_count": null,
      "outputs": []
    },
    {
      "cell_type": "markdown",
      "source": [
        "##### 1. Why did you pick the specific chart?"
      ],
      "metadata": {
        "id": "K5QZ13OEpz2H"
      }
    },
    {
      "cell_type": "markdown",
      "source": [
        "1.This is a categorical data.\n",
        "\n",
        "2.It is easy to visualise categorical data with pie chart when the categories are less."
      ],
      "metadata": {
        "id": "XESiWehPqBRc"
      }
    },
    {
      "cell_type": "markdown",
      "source": [
        "##### 2. What is/are the insight(s) found from the chart?"
      ],
      "metadata": {
        "id": "lQ7QKXXCp7Bj"
      }
    },
    {
      "cell_type": "markdown",
      "source": [
        "1.The hotel booking for city hotel is more than resort hotel."
      ],
      "metadata": {
        "id": "C_j1G7yiqdRP"
      }
    },
    {
      "cell_type": "markdown",
      "source": [
        "##### 3. Will the gained insights help creating a positive business impact?\n",
        "Are there any insights that lead to negative growth? Justify with specific reason."
      ],
      "metadata": {
        "id": "448CDAPjqfQr"
      }
    },
    {
      "cell_type": "markdown",
      "source": [
        "The insights from this chart is that people book more city hotel so we should increase the the number of hotels and services in city area to gain more profit."
      ],
      "metadata": {
        "id": "3cspy4FjqxJW"
      }
    },
    {
      "cell_type": "markdown",
      "source": [
        "#### Chart - 2"
      ],
      "metadata": {
        "id": "KSlN3yHqYklG"
      }
    },
    {
      "cell_type": "code",
      "source": [
        "import matplotlib.pyplot as plt\n",
        "import numpy as np\n",
        "import pandas as pd\n",
        "\n",
        "# Assuming 'df' is your DataFrame\n",
        "##df[\"is_repeated_guest\"].replace({0:\"is_not_repeated_guest\",1:\"is_repeated_guest\"},inplace= True)\n",
        "df1 = df[df[\"is_repeated_guest\"] == 'Yes'].count()[\"is_repeated_guest\"]\n",
        "df2 = df[df[\"is_repeated_guest\"] == 'No'].count()[\"is_repeated_guest\"]\n",
        "\n"
      ],
      "metadata": {
        "id": "R4YgtaqtYklH"
      },
      "execution_count": null,
      "outputs": []
    },
    {
      "cell_type": "code",
      "source": [
        "labels = ['repeated_guest', 'nonrepeated_guest']\n",
        "values = [df1, df2]\n",
        "\n",
        "plt.figure(figsize=(8,8))\n",
        "# Create a pie chart using Matplotlib\n",
        "#plt.figure(figsize=(8, 8))\n",
        "plt.pie(values, labels=labels, autopct='%1.1f%%') ##, startangle=90, colors=plt.cm.Paired.colors)\n",
        "\n",
        "# Set aspect ratio to be equal, ensuring the pie is drawn as a circle.\n",
        "plt.axis('equal')\n",
        "\n",
        "# Show the plot\n",
        "plt.show()"
      ],
      "metadata": {
        "id": "ZC75ZlnUam0T"
      },
      "execution_count": null,
      "outputs": []
    },
    {
      "cell_type": "markdown",
      "source": [
        "##### 1. Why did you pick the specific chart?"
      ],
      "metadata": {
        "id": "t6dVpIINYklI"
      }
    },
    {
      "cell_type": "markdown",
      "source": [
        "1.This is a categorical data.\n",
        "\n",
        "2.It is easy to visualise categorical data with pie chart when the categories are less."
      ],
      "metadata": {
        "id": "5aaW0BYyYklI"
      }
    },
    {
      "cell_type": "markdown",
      "source": [
        "##### 2. What is/are the insight(s) found from the chart?"
      ],
      "metadata": {
        "id": "ijmpgYnKYklI"
      }
    },
    {
      "cell_type": "markdown",
      "source": [
        "the pie chart actually shows that 96.1% of guests are non-repeat guests, and only 3.9% are repeat guests. This suggests a low customer retention rate, which can be a concern for a business.But\n",
        "\n",
        "\n"
      ],
      "metadata": {
        "id": "PSx9atu2YklI"
      }
    },
    {
      "cell_type": "markdown",
      "source": [
        "##### 3. Will the gained insights help creating a positive business impact?\n",
        "Are there any insights that lead to negative growth? Justify with specific reason.\n",
        "\n",
        "\n",
        "\n",
        "\n"
      ],
      "metadata": {
        "id": "-JiQyfWJYklI"
      }
    },
    {
      "cell_type": "markdown",
      "source": [
        "We cant say that it leads to negative growth but we required more information in order to identyfy which type of customer visits are maily their if the customer visiting for exploring the place then we can consider the above ratio oteherwise it lead to negative growt.The business might need to consider strategies to improve customer satisfaction and encourage repeat visits. Analyzing what differentiates the 27% who return could provide valuable insights into attracting and retaining future customers. It's important to consider if there are external factors impacting the customer base, such as new competitors or changes in the industry. It's crucial to remember that this is just a single data point, and further investigation would be needed to understand the full picture of the business's customer base and identify potential solutions."
      ],
      "metadata": {
        "id": "BcBbebzrYklV"
      }
    },
    {
      "cell_type": "markdown",
      "source": [
        "#### Chart - 3"
      ],
      "metadata": {
        "id": "EM7whBJCYoAo"
      }
    },
    {
      "cell_type": "code",
      "source": [
        "# Chart - 3 visualization code\n",
        "sns.barplot(x='distribution_channel',y='Total_guest',hue='distribution_channel', data=df, palette='Set2')"
      ],
      "metadata": {
        "id": "t6GMdE67YoAp"
      },
      "execution_count": null,
      "outputs": []
    },
    {
      "cell_type": "markdown",
      "source": [
        "##### 1. Why did you pick the specific chart?\n",
        "\n"
      ],
      "metadata": {
        "id": "fge-S5ZAYoAp"
      }
    },
    {
      "cell_type": "markdown",
      "source": [
        "I choose this chart because it is designed to compare categories. In the  case of this chart, it is comparing the total number of guests across different distribution channels.Other charts, such as a pie chart, could also be used to represent this data. However, a pie chart is only a good choice for comparing two or three categories. Because this data has more than three categories, a bar chart is a better choice."
      ],
      "metadata": {
        "id": "5dBItgRVYoAp"
      }
    },
    {
      "cell_type": "markdown",
      "source": [
        "##### 2. What is/are the insight(s) found from the chart?"
      ],
      "metadata": {
        "id": "85gYPyotYoAp"
      }
    },
    {
      "cell_type": "markdown",
      "source": [
        "The main traffic is direct.\n",
        "Here are some possible reasons for the increase in bookings through the Direct channel:\n",
        "\n",
        "1.Increased popularity of online travel agencies (OTAs) that allow hotels to sell directly to consumers\n",
        "\n",
        "2.Hotels are investing more in their own websites and marketing channels to drive direct bookings\n",
        "\n",
        "3.Consumers are increasingly comfortable booking directly with hotels, knowing they can get the best rates and deals\n"
      ],
      "metadata": {
        "id": "4jstXR6OYoAp"
      }
    },
    {
      "cell_type": "markdown",
      "source": [
        "##### 3. Will the gained insights help creating a positive business impact?\n",
        "Are there any insights that lead to negative growth? Justify with specific reason."
      ],
      "metadata": {
        "id": "RoGjAbkUYoAp"
      }
    },
    {
      "cell_type": "markdown",
      "source": [
        "Yes, the gained insights from the bar graph can help create a positive business impact. By visualizing the total number of guests acquired through different distribution channels, the company can identify which channels are the most successful at bringing in guests.This information can be used to Focus marketing efforts on the most successful channels, Improve the performance of less successful channels and Develop new distribution channels.\n",
        "Overall, the insights gained from the bar graph can help the company to improve its distribution strategy and increase its overall sales."
      ],
      "metadata": {
        "id": "zfJ8IqMcYoAp"
      }
    },
    {
      "cell_type": "markdown",
      "source": [
        "#### Chart - 4\n",
        "\n",
        "---\n",
        "\n",
        "\n"
      ],
      "metadata": {
        "id": "4Of9eVA-YrdM"
      }
    },
    {
      "cell_type": "code",
      "source": [
        "df.columns"
      ],
      "metadata": {
        "id": "tHay1pv4CqfU"
      },
      "execution_count": null,
      "outputs": []
    },
    {
      "cell_type": "code",
      "source": [
        "import matplotlib.pyplot as plt\n",
        "\n",
        "df_3 = df[df[\"previous_cancellations\"] == 1].count()[\"previous_cancellations\"]\n",
        "df_4 = df[df[\"previous_bookings_not_canceled\"] == 1].count()[\"previous_bookings_not_canceled\"]\n",
        "\n",
        "plt.figure(figsize=(8, 8))\n",
        "values = [df_3, df_4]\n",
        "labels = [\"is_canceled\", \"not_canceled\"]\n",
        "plt.pie(values, labels=labels, autopct='%1.1f%%')  # Add percentage labels\n",
        "\n",
        "plt.show()\n"
      ],
      "metadata": {
        "id": "Xygi11IuArUE"
      },
      "execution_count": null,
      "outputs": []
    },
    {
      "cell_type": "markdown",
      "source": [
        "##### 1. Why did you pick the specific chart?\n",
        "\n",
        "\n",
        "\n"
      ],
      "metadata": {
        "id": "iky9q4vBYrdO"
      }
    },
    {
      "cell_type": "markdown",
      "source": [
        "In this case, the categories are the number of bookings that were previously canceled and the number of bookings that were not previously canceled. Pie charts are a good choice for this type of data because they are easy to read and understand,the pie chart shows that there are more bookings in the \"not_canceled\" category than in the \"is_canceled\" category. This means that a higher percentage of bookings were not previously canceled.But we should focus on increasing the no of customers in not_cabcelled section."
      ],
      "metadata": {
        "id": "aJRCwT6DYrdO"
      }
    },
    {
      "cell_type": "markdown",
      "source": [
        "##### 2. What is/are the insight(s) found from the chart?\n",
        "\n"
      ],
      "metadata": {
        "id": "F6T5p64dYrdO"
      }
    },
    {
      "cell_type": "markdown",
      "source": [
        "Answer HereThe insight found from the chart is that slightly more than half of the events were not canceled (51.3%), while the remaining events were canceled (48.7%).In other words, the chart shows a nearly even split between canceled and not canceled events."
      ],
      "metadata": {
        "id": "Xx8WAJvtYrdO"
      }
    },
    {
      "cell_type": "markdown",
      "source": [
        "##### 3. Will the gained insights help creating a positive business impact?\n",
        "Are there any insights that lead to negative growth? Justify with specific reason."
      ],
      "metadata": {
        "id": "y-Ehk30pYrdP"
      }
    },
    {
      "cell_type": "markdown",
      "source": [
        "The pie chart helps!  Seeing mostly \"not canceled\" suggests low cancellation rates, leading to positive impacts like more revenue and happier guests.\n",
        "However, a high cancellation slice or increasing trend over time could signal problems like unhappy guests or booking issues, potentially hurting growth."
      ],
      "metadata": {
        "id": "jLNxxz7MYrdP"
      }
    },
    {
      "cell_type": "markdown",
      "source": [
        "#### Chart - 5"
      ],
      "metadata": {
        "id": "bamQiAODYuh1"
      }
    },
    {
      "cell_type": "code",
      "source": [
        "import pandas as pd\n",
        "import seaborn as sns\n",
        "import matplotlib.pyplot as plt\n",
        "\n",
        "# Assuming df is your DataFrame\n",
        "contry_wise_guest1 = pd.DataFrame({\n",
        "    \"country\": df[\"country\"],\n",
        "    \"Total_guest\": df[\"Total_guest\"]\n",
        "})\n",
        "\n",
        "# Calculating the sum of \"Total_guest\" for each country\n",
        "contry_wise_guest = contry_wise_guest1.groupby(\"country\")[\"Total_guest\"].sum()\n",
        "\n",
        "# Sorting the countries based on the total number of guests\n",
        "sorted_countries = contry_wise_guest.sort_values(ascending=False).index\n",
        "\n",
        "# Selecting the top 10 countries\n",
        "top_10_countries = sorted_countries[:10]\n",
        "\n",
        "# Filtering the DataFrame for the top 10 countries\n",
        "df_sorted = contry_wise_guest1[contry_wise_guest1[\"country\"].isin(top_10_countries)].copy()\n",
        "\n",
        "# Convert the \"country\" column to categorical\n",
        "df_sorted[\"country\"] = pd.Categorical(df_sorted[\"country\"])\n",
        "\n",
        "# Creating a bar plot\n",
        "plt.figure(figsize=(12, 6))\n",
        "sns.barplot(x=\"country\", y=\"Total_guest\", hue=\"country\" , data=df_sorted, palette=\"Set2\")\n",
        "\n",
        "# Set labels and title\n",
        "plt.xlabel(\"Country\")\n",
        "plt.ylabel(\"Total Guests\")\n",
        "plt.title(\"Top 10 Countries by Total Number of Guests\")\n",
        "\n",
        "# Show the plot\n",
        "plt.show()"
      ],
      "metadata": {
        "id": "iQPz06IgEJFh"
      },
      "execution_count": null,
      "outputs": []
    },
    {
      "cell_type": "markdown",
      "source": [
        "##### 1. Why did you pick the specific chart?"
      ],
      "metadata": {
        "id": "QHF8YVU7Yuh3"
      }
    },
    {
      "cell_type": "markdown",
      "source": [
        "It is a categorical data .The data consists the demand of differnt room type and we can easly find which room has more demend."
      ],
      "metadata": {
        "id": "dcxuIMRPYuh3"
      }
    },
    {
      "cell_type": "markdown",
      "source": [
        "##### 2. What is/are the insight(s) found from the chart?"
      ],
      "metadata": {
        "id": "GwzvFGzlYuh3"
      }
    },
    {
      "cell_type": "markdown",
      "source": [
        "The demand of room A is more.So we should focus on avaibility of this room also what features can add to another room so if we need more A type room then we can adjust with others.Also avaibility of customers choice is prority for good revews."
      ],
      "metadata": {
        "id": "uyqkiB8YYuh3"
      }
    },
    {
      "cell_type": "markdown",
      "source": [
        "##### 3. Will the gained insights help creating a positive business impact?\n",
        "Are there any insights that lead to negative growth? Justify with specific reason."
      ],
      "metadata": {
        "id": "qYpmQ266Yuh3"
      }
    },
    {
      "cell_type": "markdown",
      "source": [
        "The relative popularity of each room type can help businesses identify which types of rooms to invest in.The growth or decline of the popularity of a particular room type over time can help businesses identify trends and make adjustments to their room inventory.the insights gained from a bar graph of reserved rooms by type can be a valuable tool for businesses to improve their room offerings and increase their overall profitability."
      ],
      "metadata": {
        "id": "JK80D1zz9Co_"
      }
    },
    {
      "cell_type": "markdown",
      "source": [
        "#### Chart - 6"
      ],
      "metadata": {
        "id": "OH-pJp9IphqM"
      }
    },
    {
      "cell_type": "code",
      "source": [
        "# Chart - 6 visualization code\n",
        "# Creating a bar plot\n",
        "plt.figure(figsize=(12, 6))\n",
        "sns.barplot(x=\"country\", y=\"Total_guest\", hue=\"country\", data=df_sorted, palette=\"Set2\", legend=False)\n",
        "\n",
        "# Set labels and title\n",
        "plt.xlabel(\"Country\")\n",
        "plt.ylabel(\"Total Guests\")\n",
        "plt.title(\"Top 10 Countries by Total Number of Guests\")\n",
        "\n",
        "# Show the plot\n",
        "plt.show()\n",
        "\n",
        "\n"
      ],
      "metadata": {
        "id": "kuRf4wtuphqN"
      },
      "execution_count": null,
      "outputs": []
    },
    {
      "cell_type": "markdown",
      "source": [
        "##### 1. Why did you pick the specific chart?\n",
        "\n",
        "---\n",
        "\n"
      ],
      "metadata": {
        "id": "bbFf2-_FphqN"
      }
    },
    {
      "cell_type": "markdown",
      "source": [
        "the chart is comparing the total number of guests from different countries.\n",
        "The chart is comparing a single variable (total number of guests) across multiple categories (countries),The data is categorical (countries) rather than continuous and the main thing is that it  focus is on comparing the total number of guests between different countries."
      ],
      "metadata": {
        "id": "loh7H2nzphqN"
      }
    },
    {
      "cell_type": "markdown",
      "source": [
        "##### 2. What is/are the insight(s) found from the chart?"
      ],
      "metadata": {
        "id": "_ouA3fa0phqN"
      }
    },
    {
      "cell_type": "markdown",
      "source": [
        "From above information the most visitors are from Brazil.We should add more food from this country and know more about their culture."
      ],
      "metadata": {
        "id": "VECbqPI7phqN"
      }
    },
    {
      "cell_type": "markdown",
      "source": [
        "##### 3. Will the gained insights help creating a positive business impact?\n",
        "Are there any insights that lead to negative growth? Justify with specific reason."
      ],
      "metadata": {
        "id": "Seke61FWphqN"
      }
    },
    {
      "cell_type": "markdown",
      "source": [
        "No it just showing that which county visitors are intrested more."
      ],
      "metadata": {
        "id": "DW4_bGpfphqN"
      }
    },
    {
      "cell_type": "markdown",
      "source": [
        "#### Chart - 7"
      ],
      "metadata": {
        "id": "PIIx-8_IphqN"
      }
    },
    {
      "cell_type": "code",
      "source": [
        "import seaborn as sns\n",
        "import matplotlib.pyplot as plt\n",
        "\n",
        "# Define the order of months\n",
        "month_order = [\"January\", \"February\", \"March\", \"April\", \"May\", \"June\", \"July\", \"August\", \"September\", \"October\", \"November\", \"December\"]\n",
        "\n",
        "# Convert the \"arrival_date_month\" column to a categorical data type with the specified order\n",
        "df[\"arrival_date_month\"] = pd.Categorical(df[\"arrival_date_month\"], categories=month_order, ordered=True)\n",
        "\n",
        "plt.figure(figsize=(12, 6))\n",
        "sns.barplot(x=\"arrival_date_month\", y=\"Total_guest\", hue= \"arrival_date_month\" ,data=df, palette=\"Set3\")\n",
        "plt.xticks(rotation=45)  # Rotate x-axis labels for better readability\n",
        "plt.show()\n"
      ],
      "metadata": {
        "id": "KEajNp3X-EWs"
      },
      "execution_count": null,
      "outputs": []
    },
    {
      "cell_type": "markdown",
      "source": [
        "##### 1. Why did you pick the specific chart?"
      ],
      "metadata": {
        "id": "t27r6nlMphqO"
      }
    },
    {
      "cell_type": "markdown",
      "source": [
        " I choose this chart because it was a good choice to visualize the data because it effectively shows the number of guest per month. Bar charts are ideal for displaying data that is categorized along one axis, with heights of the bars representing values for each category.It is easy to compare the number of guest across different months because the bars have the same width.Other chart types, like a line chart, might not have been as suitable. Line charts are typically used to show trends over time."
      ],
      "metadata": {
        "id": "iv6ro40sphqO"
      }
    },
    {
      "cell_type": "markdown",
      "source": [
        "##### 2. What is/are the insight(s) found from the chart?"
      ],
      "metadata": {
        "id": "r2jJGEOYphqO"
      }
    },
    {
      "cell_type": "markdown",
      "source": [
        "The insight found from the chart is that the number of guests has been increasing over time.  The months of Janauary through july show a steady increase in the number of guests, with the highest number of guests in Augast.  There is then a decrease in the number of guests in September to November."
      ],
      "metadata": {
        "id": "Po6ZPi4hphqO"
      }
    },
    {
      "cell_type": "markdown",
      "source": [
        "##### 3. Will the gained insights help creating a positive business impact?\n",
        "Are there any insights that lead to negative growth? Justify with specific reason."
      ],
      "metadata": {
        "id": "b0JNsNcRphqO"
      }
    },
    {
      "cell_type": "markdown",
      "source": [
        "\n",
        "Yes, the gained insights from the graph  could help create a positive business impact. The graph shows an overall increasing trend in the number of total guests over the past year, which suggests increasing demand. This could be helpful for businesses in planning for the future, such as staffing or inventory levels.\n",
        "\n",
        "However, there are also some insights that could lead to negative growth.  For instance, there is a significant decrease in the number of guests between September to November. This could be a cause for concern, as it suggests a seasonal dip in business. Businesses would need to take steps to mitigate this, such as by running promotions or discounts during this time period.\n",
        "\n"
      ],
      "metadata": {
        "id": "xvSq8iUTphqO"
      }
    },
    {
      "cell_type": "markdown",
      "source": [
        "#### Chart - 8"
      ],
      "metadata": {
        "id": "BZR9WyysphqO"
      }
    },
    {
      "cell_type": "code",
      "source": [
        "# Chart - 8 visualization code\n",
        "import seaborn as sns\n",
        "import matplotlib.pyplot as plt\n",
        "\n",
        "def bar_chart(dataframe, x_column, hue_column):\n",
        "    sns.countplot(x=x_column, hue=hue_column, data=dataframe)\n",
        "    plt.show()\n",
        "\n",
        "# Example usage\n",
        "bar_chart(df, 'assigned_room_type', 'assigned_room_type')"
      ],
      "metadata": {
        "id": "TdPTWpAVphqO"
      },
      "execution_count": null,
      "outputs": []
    },
    {
      "cell_type": "markdown",
      "source": [
        "##### 1. Why did you pick the specific chart?"
      ],
      "metadata": {
        "id": "jj7wYXLtphqO"
      }
    },
    {
      "cell_type": "markdown",
      "source": [
        "Room type is a categorical data and it is good to use bar plot.From the chart of booked hotel type we come to know that the demand for room typr A is greater so the assigned room type A is assigned mostly."
      ],
      "metadata": {
        "id": "Ob8u6rCTphqO"
      }
    },
    {
      "cell_type": "markdown",
      "source": [
        "##### 2. What is/are the insight(s) found from the chart?"
      ],
      "metadata": {
        "id": "eZrbJ2SmphqO"
      }
    },
    {
      "cell_type": "markdown",
      "source": [
        "BY comparing both the graph we get on conclusion that we are good at meeting customers demand."
      ],
      "metadata": {
        "id": "mZtgC_hjphqO"
      }
    },
    {
      "cell_type": "markdown",
      "source": [
        "##### 3. Will the gained insights help creating a positive business impact?\n",
        "Are there any insights that lead to negative growth? Justify with specific reason."
      ],
      "metadata": {
        "id": "rFu4xreNphqO"
      }
    },
    {
      "cell_type": "markdown",
      "source": [
        "The insights lead to positive business impact as we have sufficient rooms.As the demand is meeting the customers expectetation .As a room is assigned the most we can say that we almost meets the customer need but we have to take look on other roomswht they are not in demand."
      ],
      "metadata": {
        "id": "ey_0qi68phqO"
      }
    },
    {
      "cell_type": "markdown",
      "source": [
        "#### Chart - 9"
      ],
      "metadata": {
        "id": "YJ55k-q6phqO"
      }
    },
    {
      "cell_type": "code",
      "source": [
        "# Chart - 9 visualization code\n",
        "import seaborn as sns\n",
        "import matplotlib.pyplot as plt\n",
        "\n",
        "plt.figure(figsize=(8, 6))\n",
        "sns.barplot(x=\"hotel\", y=\"adr\", hue=\"hotel\", data=df, palette=\"Set2\", dodge=False)\n",
        "plt.xlabel(\"Hotel\")\n",
        "plt.ylabel(\"Average Daily Rate (ADR)\")\n",
        "plt.title(\"Average Daily Rate (ADR) by Hotel\")\n",
        "##plt.legend([], frameon=False)  # To remove the legend\n",
        "plt.show()\n"
      ],
      "metadata": {
        "id": "B2aS4O1ophqO"
      },
      "execution_count": null,
      "outputs": []
    },
    {
      "cell_type": "markdown",
      "source": [
        "##### 1. Why did you pick the specific chart?"
      ],
      "metadata": {
        "id": "gCFgpxoyphqP"
      }
    },
    {
      "cell_type": "markdown",
      "source": [
        "The chart is a bar chart that compares the average daily rate (ADR) of two different hotel types: Resort Hotel and City Hotel.  A bar chart is a good choice for this data because it effectively compares different categories."
      ],
      "metadata": {
        "id": "TVxDimi2phqP"
      }
    },
    {
      "cell_type": "markdown",
      "source": [
        "##### 2. What is/are the insight(s) found from the chart?"
      ],
      "metadata": {
        "id": "OVtJsKN_phqQ"
      }
    },
    {
      "cell_type": "markdown",
      "source": [
        "The chart shows that resort hotels have a higher ADR than city hotels. This means that people typically pay more per night to stay in a resort hotel than a city hotel. There are a few reasons why this might be the case.Resort hotels are often located in desirable destinations, such as beaches or mountains. People may be willing to pay more to stay in a location that offers them a chance to relax and enjoy the scenery.Resort hotels typically offer more amenities than city hotels, such as swimming pools, restaurants, and spas. People may be willing to pay more for a hotel that offers them these amenities."
      ],
      "metadata": {
        "id": "ngGi97qjphqQ"
      }
    },
    {
      "cell_type": "markdown",
      "source": [
        "##### 3. Will the gained insights help creating a positive business impact?\n",
        "Are there any insights that lead to negative growth? Justify with specific reason."
      ],
      "metadata": {
        "id": "lssrdh5qphqQ"
      }
    },
    {
      "cell_type": "markdown",
      "source": [
        "The graph shows that resort hotels have a higher ADR than city hotels. This suggests that people are willing to pay more for rooms at resort hotels. This information can be used by businesses to make decisions about pricing, marketing, and investment. By understanding the ADR of different hotel types, businesses can make more informed decisions about pricing, marketing, and investment."
      ],
      "metadata": {
        "id": "tBpY5ekJphqQ"
      }
    },
    {
      "cell_type": "markdown",
      "source": [
        "#### Chart - 10"
      ],
      "metadata": {
        "id": "U2RJ9gkRphqQ"
      }
    },
    {
      "cell_type": "code",
      "source": [
        "# Chart - 10 visualization code\n",
        "df.columns"
      ],
      "metadata": {
        "id": "GM7a4YP4phqQ"
      },
      "execution_count": null,
      "outputs": []
    },
    {
      "cell_type": "code",
      "source": [
        "#mport seaborn as sns\n",
        "##import matplotlib.pyplot as plt\n",
        "##plt.figure(figsize=(12,10))\n",
        "#Assuming you have a DataFrame named 'df' with columns 'meal', 'Total_guest', and 'hotel'\n",
        "#sns.barplot(x='meal', y='Total_guest', hue='hotel', data=df)\n",
        "#plt.show()\n",
        "hotel_wise_meal=df.groupby([\"hotel\",\"meal\"])[\"meal\"].count().unstack()\n",
        "hotel_wise_meal.plot(kind = 'bar',figsize =(10,6))\n",
        "hotel_wise_meal"
      ],
      "metadata": {
        "id": "C9Y98-iVBDET"
      },
      "execution_count": null,
      "outputs": []
    },
    {
      "cell_type": "markdown",
      "source": [
        "##### 1. Why did you pick the specific chart?"
      ],
      "metadata": {
        "id": "1M8mcRywphqQ"
      }
    },
    {
      "cell_type": "markdown",
      "source": [
        "I choose this chart because it shows comparision between hotel type along with drill through diffrent type of fmeals in each hotel type."
      ],
      "metadata": {
        "id": "8agQvks0phqQ"
      }
    },
    {
      "cell_type": "markdown",
      "source": [
        "##### 2. What is/are the insight(s) found from the chart?"
      ],
      "metadata": {
        "id": "tgIPom80phqQ"
      }
    },
    {
      "cell_type": "markdown",
      "source": [
        "In both city_hotel and resort hotel the BB type of meal is preffered more so we should increase the varity in similar way."
      ],
      "metadata": {
        "id": "Qp13pnNzphqQ"
      }
    },
    {
      "cell_type": "markdown",
      "source": [
        "##### 3. Will the gained insights help creating a positive business impact?\n",
        "Are there any insights that lead to negative growth? Justify with specific reason."
      ],
      "metadata": {
        "id": "JMzcOPDDphqR"
      }
    },
    {
      "cell_type": "markdown",
      "source": [
        "No insights does not lead to negative growth.This information can be valuable for the hotels in planning menus, staffing during peak meal times, and potentially influencing marketing strategies."
      ],
      "metadata": {
        "id": "R4Ka1PC2phqR"
      }
    },
    {
      "cell_type": "markdown",
      "source": [
        "#### Chart - 11"
      ],
      "metadata": {
        "id": "x-EpHcCOp1ci"
      }
    },
    {
      "cell_type": "code",
      "source": [
        "# Chart - 11 visualization code\n",
        "import seaborn as sns\n",
        "import matplotlib.pyplot as plt\n",
        "\n",
        "plt.figure(figsize=(12, 6))\n",
        "sns.barplot(x=\"market_segment\", y=\"Total_guest\", hue=\"market_segment\", data=df, palette=\"Set3\", dodge=False)\n",
        "plt.xlabel(\"Market Segment\")\n",
        "plt.ylabel(\"Total Guests\")\n",
        "plt.title(\"Total Guests by Market Segment\")\n",
        "plt.xticks(rotation=45)  # Rotate x-axis labels for better readability\n",
        "plt.legend([], frameon=False)  # To remove the legend\n",
        "plt.show()\n"
      ],
      "metadata": {
        "id": "mAQTIvtqp1cj"
      },
      "execution_count": null,
      "outputs": []
    },
    {
      "cell_type": "markdown",
      "source": [
        "##### 1. Why did you pick the specific chart?"
      ],
      "metadata": {
        "id": "X_VqEhTip1ck"
      }
    },
    {
      "cell_type": "markdown",
      "source": [
        " It is a good for visualizing the number of guests by market segment by bar chart because it allows for easy comparison between the different segments. Each market segment has its own bar on the chart, and the height of the bar corresponds to the number of guests in that segment. This makes it easy to see which segment has the most guests, and how the other segments compare."
      ],
      "metadata": {
        "id": "-vsMzt_np1ck"
      }
    },
    {
      "cell_type": "markdown",
      "source": [
        "##### 2. What is/are the insight(s) found from the chart?\n",
        "\n",
        "---\n",
        "\n"
      ],
      "metadata": {
        "id": "8zGJKyg5p1ck"
      }
    },
    {
      "cell_type": "markdown",
      "source": [
        "we can see that the hotel has a variety of market segments, including Direct, Corporate, Online TA, Offline TA/TO, Complementary, Groups, and Undefined. The largest segment is Total Guests, followed by Online TA. This suggests that the hotel may get a significant number of bookings through online travel agencies."
      ],
      "metadata": {
        "id": "ZYdMsrqVp1ck"
      }
    },
    {
      "cell_type": "markdown",
      "source": [
        "##### 3. Will the gained insights help creating a positive business impact?\n",
        "Are there any insights that lead to negative growth? Justify with specific reason."
      ],
      "metadata": {
        "id": "PVzmfK_Ep1ck"
      }
    },
    {
      "cell_type": "markdown",
      "source": [
        "Understanding guest segments from a bar graph sparks better marketing. Bigger bars mean bigger opportunities. Businesses can target high-potential segments with focused campaigns. Lower numbers might indicate areas for improvement, like tracking undefined sources. Analyzing trends over time allows for strategic adjustments. Overall, this data is key to attracting more guests and boosting business."
      ],
      "metadata": {
        "id": "druuKYZpp1ck"
      }
    },
    {
      "cell_type": "markdown",
      "source": [
        "#### Chart - 12"
      ],
      "metadata": {
        "id": "n3dbpmDWp1ck"
      }
    },
    {
      "cell_type": "code",
      "source": [
        "#correlation heatmap visualization code\n",
        "corr_df = df[['lead_time','previous_cancellations','previous_bookings_not_canceled','Total_guest','booking_changes','days_in_waiting_list','adr','required_car_parking_spaces'\n",
        ",'total_of_special_requests']].corr()\n",
        "f,ax =plt.subplots(figsize=(12,12))\n",
        "sns.heatmap(corr_df, annot = True,fmt='.2f', annot_kws={'size':10},vmax=1, square=True,cmap=\"YlGnBu\")"
      ],
      "metadata": {
        "id": "pvJq5_3PcZdK"
      },
      "execution_count": null,
      "outputs": []
    },
    {
      "cell_type": "markdown",
      "source": [
        "##### 1. Why did you pick the specific chart?"
      ],
      "metadata": {
        "id": "EXh0U9oCveiU"
      }
    },
    {
      "cell_type": "markdown",
      "source": [
        "To comprehend the relationships among various numerical quantities"
      ],
      "metadata": {
        "id": "eMmPjTByveiU"
      }
    },
    {
      "cell_type": "markdown",
      "source": [
        "##### 2. What is/are the insight(s) found from the chart?"
      ],
      "metadata": {
        "id": "22aHeOlLveiV"
      }
    },
    {
      "cell_type": "markdown",
      "source": [
        "The axis's highest corelation value is 39% positive and its lowest correlation value is -9% negative."
      ],
      "metadata": {
        "id": "uPQ8RGwHveiV"
      }
    },
    {
      "cell_type": "markdown",
      "source": [
        "## **5. Solution to Business Objective**"
      ],
      "metadata": {
        "id": "JcMwzZxoAimU"
      }
    },
    {
      "cell_type": "markdown",
      "source": [
        "#### What do you suggest the client to achieve Business Objective ?\n",
        "Explain Briefly."
      ],
      "metadata": {
        "id": "8G2x9gOozGDZ"
      }
    },
    {
      "cell_type": "markdown",
      "source": [
        "The following business aim was met :\n",
        "1. In order for the hotel industry to prosper, a few factors must be taken into account, including high revenue generation, customer happiness, and employee retention.\n",
        "2. By using a pie chart distribution, we can demonstrate to the client which months generate the most money.\n",
        "3. Increasing revenue by using a bar chart to show which types of rooms are most frequently booked and when visitors are most likely to travel.\n",
        "4. As a result, the customer can be properly prepared in advance, minimising long-term complaints and contributing to further improvement\n",
        "of their hospitality, To encourage clients to contact offices for bulk reservations during the off-season, outliers such as larger visitor numbers than average\n",
        "were sprinkled across the plot. This helped generate more money.\n",
        "6. We can display the visitor arrivals trend at client venues, allowing clients to schedule visitors in advance for their entertainment and leisure activities.\n",
        "7. In order for the percentages underneath those numbers to be improved by a variety of mediums, we were also able to correlate the values indicating the maximum and minimum % between them."
      ],
      "metadata": {
        "id": "pASKb0qOza21"
      }
    },
    {
      "cell_type": "markdown",
      "source": [
        "# **Conclusion**"
      ],
      "metadata": {
        "id": "gCX9965dhzqZ"
      }
    },
    {
      "cell_type": "markdown",
      "source": [
        "When is the optimal time to book a hotel room for both city and resort hotels?\n",
        "How does the length of stay correlate with the daily rate, and what is the optimal duration for cost-effectiveness?\n",
        "\n",
        "1. City Hotel generates greater income and profit and appears to be more popular among travellers.\n",
        "\n",
        "2. Compared to the other months, the majority of reservations are made in July and August.we can predict whether a hotel is likely to receive an unusually high number of special requests based on booking details and monthly demend\n",
        "\n",
        "\n",
        "3. Travellers favour accommodation Type A over all other accommodation types.\n",
        ",demographic factors like the number of adults, children, and babies directly affect booking patterns for room type.\n",
        "\n",
        "4. As a result, the customer can be properly prepared in advance, minimising long-term complaints and contributing to further improvement\n",
        "of their hospitality.\n",
        "\n",
        "5.  The most traffic is from online source as from online souce customer nedd less brokarage cost.\n",
        "\n",
        "6.   To encourage clients to contact offices for bulk reservations during the off-season, outliers such as larger visitor numbers than average\n",
        "were sprinkled across the plot. This helped generate more money.\n",
        "\n",
        "\n",
        "\n",
        "\n",
        "\n"
      ],
      "metadata": {
        "id": "Fjb1IsQkh3yE"
      }
    },
    {
      "cell_type": "markdown",
      "source": [
        "### ***Hurrah! You have successfully completed your EDA Capstone Project !!!***"
      ],
      "metadata": {
        "id": "gIfDvo9L0UH2"
      }
    }
  ]
}